{
 "cells": [
  {
   "cell_type": "markdown",
   "id": "fe770581-4360-4ac4-ac16-85cc4b92b159",
   "metadata": {},
   "source": [
    "## Exercice 1 :Implementation d'un perceptron multicouche avec TensorFlow & Keras\n"
   ]
  },
  {
   "cell_type": "markdown",
   "id": "5844f670-f8a3-409b-bf8e-8bab4f35ffca",
   "metadata": {},
   "source": [
    "### 1- Importation des bibliothèques necessaire pour ce travail\n",
    "Dans cette section, les bibliothèques nécessaires pour le travail sont importées. Ces bibliothèques comprennent TensorFlow et Keras pour la mise en œuvre du modèle de réseau neuronal, ainsi que des bibliothèques de manipulation de données comme NumPy et des outils de visualisation comme Matplotlib.\n",
    "s."
   ]
  },
  {
   "cell_type": "code",
   "execution_count": 1,
   "id": "cf71a0af-7dc5-4cb3-bb66-d78cf8720bf2",
   "metadata": {},
   "outputs": [
    {
     "ename": "KeyboardInterrupt",
     "evalue": "",
     "output_type": "error",
     "traceback": [
      "\u001b[1;31m---------------------------------------------------------------------------\u001b[0m",
      "\u001b[1;31mKeyboardInterrupt\u001b[0m                         Traceback (most recent call last)",
      "Cell \u001b[1;32mIn[1], line 2\u001b[0m\n\u001b[0;32m      1\u001b[0m \u001b[38;5;28;01mimport\u001b[39;00m \u001b[38;5;21;01mrandom\u001b[39;00m\n\u001b[1;32m----> 2\u001b[0m \u001b[38;5;28;01mimport\u001b[39;00m \u001b[38;5;21;01mmatplotlib\u001b[39;00m\u001b[38;5;21;01m.\u001b[39;00m\u001b[38;5;21;01mpyplot\u001b[39;00m \u001b[38;5;28;01mas\u001b[39;00m \u001b[38;5;21;01mplt\u001b[39;00m\n\u001b[0;32m      3\u001b[0m \u001b[38;5;28;01mimport\u001b[39;00m \u001b[38;5;21;01mmatplotlib\u001b[39;00m\n\u001b[0;32m      4\u001b[0m \u001b[38;5;28;01mimport\u001b[39;00m \u001b[38;5;21;01mnumpy\u001b[39;00m \u001b[38;5;28;01mas\u001b[39;00m \u001b[38;5;21;01mnp\u001b[39;00m\n",
      "File \u001b[1;32m~\\anaconda3\\Lib\\site-packages\\matplotlib\\pyplot.py:56\u001b[0m\n\u001b[0;32m     54\u001b[0m \u001b[38;5;28;01mfrom\u001b[39;00m \u001b[38;5;21;01mcycler\u001b[39;00m \u001b[38;5;28;01mimport\u001b[39;00m cycler\n\u001b[0;32m     55\u001b[0m \u001b[38;5;28;01mimport\u001b[39;00m \u001b[38;5;21;01mmatplotlib\u001b[39;00m\n\u001b[1;32m---> 56\u001b[0m \u001b[38;5;28;01mimport\u001b[39;00m \u001b[38;5;21;01mmatplotlib\u001b[39;00m\u001b[38;5;21;01m.\u001b[39;00m\u001b[38;5;21;01mcolorbar\u001b[39;00m\n\u001b[0;32m     57\u001b[0m \u001b[38;5;28;01mimport\u001b[39;00m \u001b[38;5;21;01mmatplotlib\u001b[39;00m\u001b[38;5;21;01m.\u001b[39;00m\u001b[38;5;21;01mimage\u001b[39;00m\n\u001b[0;32m     58\u001b[0m \u001b[38;5;28;01mfrom\u001b[39;00m \u001b[38;5;21;01mmatplotlib\u001b[39;00m \u001b[38;5;28;01mimport\u001b[39;00m _api\n",
      "File \u001b[1;32m~\\anaconda3\\Lib\\site-packages\\matplotlib\\colorbar.py:23\u001b[0m\n\u001b[0;32m     21\u001b[0m \u001b[38;5;28;01mimport\u001b[39;00m \u001b[38;5;21;01mmatplotlib\u001b[39;00m\u001b[38;5;21;01m.\u001b[39;00m\u001b[38;5;21;01mpatches\u001b[39;00m \u001b[38;5;28;01mas\u001b[39;00m \u001b[38;5;21;01mmpatches\u001b[39;00m\n\u001b[0;32m     22\u001b[0m \u001b[38;5;28;01mimport\u001b[39;00m \u001b[38;5;21;01mmatplotlib\u001b[39;00m\u001b[38;5;21;01m.\u001b[39;00m\u001b[38;5;21;01mpath\u001b[39;00m \u001b[38;5;28;01mas\u001b[39;00m \u001b[38;5;21;01mmpath\u001b[39;00m\n\u001b[1;32m---> 23\u001b[0m \u001b[38;5;28;01mimport\u001b[39;00m \u001b[38;5;21;01mmatplotlib\u001b[39;00m\u001b[38;5;21;01m.\u001b[39;00m\u001b[38;5;21;01mspines\u001b[39;00m \u001b[38;5;28;01mas\u001b[39;00m \u001b[38;5;21;01mmspines\u001b[39;00m\n\u001b[0;32m     24\u001b[0m \u001b[38;5;28;01mimport\u001b[39;00m \u001b[38;5;21;01mmatplotlib\u001b[39;00m\u001b[38;5;21;01m.\u001b[39;00m\u001b[38;5;21;01mtransforms\u001b[39;00m \u001b[38;5;28;01mas\u001b[39;00m \u001b[38;5;21;01mmtransforms\u001b[39;00m\n\u001b[0;32m     25\u001b[0m \u001b[38;5;28;01mfrom\u001b[39;00m \u001b[38;5;21;01mmatplotlib\u001b[39;00m \u001b[38;5;28;01mimport\u001b[39;00m _docstring\n",
      "File \u001b[1;32m<frozen importlib._bootstrap>:1176\u001b[0m, in \u001b[0;36m_find_and_load\u001b[1;34m(name, import_)\u001b[0m\n",
      "File \u001b[1;32m<frozen importlib._bootstrap>:1138\u001b[0m, in \u001b[0;36m_find_and_load_unlocked\u001b[1;34m(name, import_)\u001b[0m\n",
      "File \u001b[1;32m<frozen importlib._bootstrap>:1078\u001b[0m, in \u001b[0;36m_find_spec\u001b[1;34m(name, path, target)\u001b[0m\n",
      "File \u001b[1;32m<frozen importlib._bootstrap_external>:1504\u001b[0m, in \u001b[0;36mfind_spec\u001b[1;34m(cls, fullname, path, target)\u001b[0m\n",
      "File \u001b[1;32m<frozen importlib._bootstrap_external>:1476\u001b[0m, in \u001b[0;36m_get_spec\u001b[1;34m(cls, fullname, path, target)\u001b[0m\n",
      "File \u001b[1;32m<frozen importlib._bootstrap_external>:1612\u001b[0m, in \u001b[0;36mfind_spec\u001b[1;34m(self, fullname, target)\u001b[0m\n",
      "File \u001b[1;32m<frozen importlib._bootstrap_external>:147\u001b[0m, in \u001b[0;36m_path_stat\u001b[1;34m(path)\u001b[0m\n",
      "\u001b[1;31mKeyboardInterrupt\u001b[0m: "
     ]
    }
   ],
   "source": [
    "import random\n",
    "import matplotlib.pyplot as plt\n",
    "import matplotlib\n",
    "import numpy as np\n",
    "import tensorflow as tf\n",
    " \n",
    "from tensorflow.keras import layers\n",
    "from tensorflow.keras import Sequential\n",
    "from tensorflow.keras.layers import Dense, Dropout\n",
    "from tensorflow.keras.datasets import mnist\n",
    "from tensorflow.keras.datasets import fashion_mnist\n",
    "from tensorflow.keras.utils import to_categorical\n",
    "\n",
    "from matplotlib.ticker import (MultipleLocator, FormatStrFormatter)\n",
    "\n",
    "plt.rcParams['axes.titlesize'] = 16 \n",
    "plt.rcParams['axes.labelsize'] = 14\n",
    "plt.rcParams['image.cmap'] = 'gray'"
   ]
  },
  {
   "cell_type": "code",
   "execution_count": null,
   "id": "4946c8ad-8c52-4c1b-8645-cb93f11b09b4",
   "metadata": {},
   "outputs": [],
   "source": [
    "SEED_VALUE = 42\n",
    " \n",
    "#une graine aléatoire est fixée pour garantir la reproductibilité des résultats..\n",
    "random.seed(SEED_VALUE)\n",
    "np.random.seed(SEED_VALUE)\n",
    "tf.random.set_seed(SEED_VALUE)"
   ]
  },
  {
   "cell_type": "code",
   "execution_count": null,
   "id": "115f2326-b1ff-412e-bc8d-2af2fb169c05",
   "metadata": {},
   "outputs": [],
   "source": [
    "#Chargement de la base de données MNIST\n",
    "(X_train_all, y_train_all), (X_test, y_test) = mnist.load_data()\n",
    "\n",
    "#Séparation des données de validation\n",
    "X_valid = X_train_all[:10000]\n",
    "X_train = X_train_all[10000:]\n",
    " \n",
    "y_valid = y_train_all[:10000]\n",
    "y_train = y_train_all[10000:]\n",
    " \n",
    "print(X_train.shape)\n",
    "print(X_valid.shape)\n",
    "print(X_test.shape)"
   ]
  },
  {
   "cell_type": "code",
   "execution_count": null,
   "id": "8988472e-c990-4cab-9534-c94a4fa69501",
   "metadata": {},
   "outputs": [],
   "source": [
    "plt.figure(figsize=(18, 5))\n",
    "for i in range(3):\n",
    "    plt.subplot(1, 3, i + 1)\n",
    "    plt.axis(True)\n",
    "    plt.imshow(X_train[i], cmap='gray')\n",
    "    plt.subplots_adjust(wspace=0.2, hspace=0.2)"
   ]
  },
  {
   "cell_type": "markdown",
   "id": "fa6e732f-91f5-42e9-86f7-53c55a65cdf3",
   "metadata": {},
   "source": [
    "## 2- Prétraitement des données\n",
    "Dans cette section, les données d'entraînement, de validation et de test sont prétraitées. Les images sont normalisées pour être dans la plage [0,1], et les étiquettes sont converties en encodage one-hot pour les catégoriser correctement."
   ]
  },
  {
   "cell_type": "code",
   "execution_count": null,
   "id": "146ecb49-270d-4790-a4a3-64ba69bcc0eb",
   "metadata": {},
   "outputs": [],
   "source": [
    "X_train = X_train.reshape((X_train.shape[0], 28 * 28))\n",
    "X_train = X_train.astype(\"float32\") / 255\n",
    " \n",
    "X_test = X_test.reshape((X_test.shape[0], 28 * 28))\n",
    "X_test = X_test.astype(\"float32\") / 255\n",
    "     \n",
    "X_valid = X_valid.reshape((X_valid.shape[0], 28 * 28))\n",
    "X_valid = X_valid.astype(\"float32\") / 255"
   ]
  },
  {
   "cell_type": "code",
   "execution_count": null,
   "id": "d746e016-6525-48ef-bf35-adfd468a1442",
   "metadata": {},
   "outputs": [],
   "source": [
    "# chargement de la base de donnée Fashion MNIST\n",
    "((X_train_fashion, y_train_fashion), (_, _)) = fashion_mnist.load_data()\n",
    " \n",
    "print(y_train_fashion[0:9])"
   ]
  },
  {
   "cell_type": "code",
   "execution_count": null,
   "id": "5fed4f33-b7cc-4db5-8a65-8193b0a511c2",
   "metadata": {},
   "outputs": [],
   "source": [
    "#Conversion des données d'entrainement en encodage one hot\n",
    "y_train_onehot = to_categorical(y_train_fashion[0:9])\n",
    "print(y_train_onehot)"
   ]
  },
  {
   "cell_type": "code",
   "execution_count": null,
   "id": "147084d1-b699-49fd-80d0-d608df6cc810",
   "metadata": {},
   "outputs": [],
   "source": [
    "#Conversion des données en encodage one hot\n",
    "y_train = to_categorical(y_train)\n",
    "y_valid = to_categorical(y_valid)\n",
    "y_test  = to_categorical(y_test)"
   ]
  },
  {
   "cell_type": "markdown",
   "id": "9833c71e-0043-4565-bea6-960cd50cc0c4",
   "metadata": {},
   "source": [
    "## 3- Architecture du modèle\n",
    "Cette section définit l'architecture du modèle à l'aide de l'API séquentielle de Keras. Le modèle est composé de trois couches entièrement connectées (dense), avec des fonctions d'activation non linéaire à l'instar de ReLU pour les couches cachées et une fonction d'activation softmax pour la couche de sortie."
   ]
  },
  {
   "attachments": {
    "0404e74a-0132-48ef-bd3c-2b4394a11d5b.webp": {
     "image/webp": "[encoded data removed]"
    }
   },
   "cell_type": "markdown",
   "id": "6b1e1b19-f202-46d4-b38b-fa57a94239f5",
   "metadata": {},
   "source": [
    "![keras-mnist-mlp-network.webp](attachment:0404e74a-0132-48ef-bd3c-2b4394a11d5b.webp)"
   ]
  },
  {
   "cell_type": "markdown",
   "id": "14662713-fa08-45a0-a8ed-e1337701eb6e",
   "metadata": {},
   "source": [
    "## 4- Compilation du modèle\n",
    "Dans cette section, le modèle est compilé avec l'optimiseur RMSprop (Root Mean Square propagation), la fonction de perte \"categorical_crossentropy\" (car il s'agit d'un problème de classification multiclasse) et la métrique d'exactitude pour évaluer les performances du modèle pendant l'entraînement."
   ]
  },
  {
   "cell_type": "code",
   "execution_count": null,
   "id": "005938f8-cc25-407f-95c2-9c8cd2cf72b5",
   "metadata": {},
   "outputs": [],
   "source": [
    "# Intanciation du modèle.\n",
    "model = tf.keras.Sequential()\n",
    " \n",
    "# construction du modèle.\n",
    "model.add(Dense(128, activation='relu', input_shape=(X_train.shape[1],)))\n",
    "model.add(Dense(128, activation='relu'))\n",
    "model.add(Dense(10,  activation=\"softmax\"))\n",
    " \n",
    "# La méthode summary() est appelée pour afficher un résumé de l'architecture du modèle, y compris le nombre de paramètres dans chaque couche.\n",
    "model.summary()"
   ]
  },
  {
   "cell_type": "code",
   "execution_count": null,
   "id": "b8256db7-7f88-4337-8996-562e4a35c200",
   "metadata": {},
   "outputs": [],
   "source": [
    "model.compile(optimizer=\"rmsprop\",\n",
    "              loss=\"categorical_crossentropy\",\n",
    "              metrics=[\"accuracy\"])"
   ]
  },
  {
   "cell_type": "markdown",
   "id": "f2fdb1c8-a993-44bf-bf9a-572f4a8813bd",
   "metadata": {},
   "source": [
    "## 5- Entrainement du modèle\n",
    "Le modèle est entraîné dans cette section en utilisant les données d'entraînement et de validation. Les résultats de l'entraînement sont stockés dans l'objet training_results."
   ]
  },
  {
   "cell_type": "code",
   "execution_count": null,
   "id": "44d5ca0f-16a6-410c-afed-734c6a25e0ac",
   "metadata": {},
   "outputs": [],
   "source": [
    "training_results = model.fit(X_train, \n",
    "                             y_train, \n",
    "                             epochs=21, \n",
    "                             batch_size=64, \n",
    "                             validation_data=(X_valid, y_valid));"
   ]
  },
  {
   "cell_type": "markdown",
   "id": "9c3ee65b-8639-458a-a1e5-f029a6b12cc1",
   "metadata": {},
   "source": [
    "## 6- Interprétation des resultats de l'entrainement\n",
    "Cette section comprend des fonctions pour tracer les courbes de perte et d'exactitude à la fois pour les données d'entraînement et de validation. "
   ]
  },
  {
   "cell_type": "code",
   "execution_count": null,
   "id": "6700e2d2-b50e-45ab-9629-612c2ce8df6f",
   "metadata": {},
   "outputs": [],
   "source": [
    "def plot_results(metrics, title=None, ylabel=None, ylim=None, metric_name=None, color=None):\n",
    "     \n",
    "    fig, ax = plt.subplots(figsize=(15, 4))\n",
    " \n",
    "    if not isinstance(metric_name, (list, tuple)):\n",
    "        metrics = [metrics,]\n",
    "        metric_name = [metric_name,]\n",
    "         \n",
    "    for idx, metric in enumerate(metrics):    \n",
    "        ax.plot(metric, color=color[idx])\n",
    "     \n",
    "    plt.xlabel(\"Epoch\")\n",
    "    plt.ylabel(ylabel)\n",
    "    plt.title(title)\n",
    "    plt.xlim([0, 20])\n",
    "    plt.ylim(ylim)\n",
    "    \n",
    "    ax.xaxis.set_major_locator(MultipleLocator(5))\n",
    "    ax.xaxis.set_major_formatter(FormatStrFormatter('%d'))\n",
    "    ax.xaxis.set_minor_locator(MultipleLocator(1))\n",
    "    plt.grid(True)\n",
    "    plt.legend(metric_name)   \n",
    "    plt.show()\n",
    "    plt.close()"
   ]
  },
  {
   "cell_type": "code",
   "execution_count": null,
   "id": "d11b3c45-142b-44d4-9068-3db412a96bdb",
   "metadata": {},
   "outputs": [],
   "source": [
    "\n",
    "train_loss = training_results.history[\"loss\"]\n",
    "train_acc  = training_results.history[\"accuracy\"]\n",
    "valid_loss = training_results.history[\"val_loss\"]\n",
    "valid_acc  = training_results.history[\"val_accuracy\"]\n",
    " \n",
    "plot_results([ train_loss, valid_loss ],        \n",
    "            ylabel=\"Loss\", \n",
    "            ylim = [0.0, 0.5],\n",
    "            metric_name=[\"Training Loss\", \"Validation Loss\"],\n",
    "            color=[\"g\", \"b\"]);\n",
    " \n",
    "plot_results([ train_acc, valid_acc ], \n",
    "            ylabel=\"Accuracy\",\n",
    "            ylim = [0.9, 1.0],\n",
    "            metric_name=[\"Training Accuracy\", \"Validation Accuracy\"],\n",
    "            color=[\"g\", \"b\"])"
   ]
  },
  {
   "cell_type": "markdown",
   "id": "daa4be3e-0024-4439-9624-e5ee62a112af",
   "metadata": {},
   "source": [
    "Notons que le modèle montre des signes de surapprentissage car la perte de validation commence à augmenter après un certain nombre d'époques, tandis que la perte d'entraînement continue de diminuer."
   ]
  },
  {
   "cell_type": "markdown",
   "id": "c39f01ca-dc1c-4c59-8c31-8ef9cfdc743e",
   "metadata": {},
   "source": [
    "## 7- Evaluation du modèle"
   ]
  },
  {
   "cell_type": "markdown",
   "id": "bba71523-3c98-49dd-93fa-a75bfce1412b",
   "metadata": {},
   "source": [
    "Cette section montre comment utiliser le modèle entraîné pour faire des prédictions sur les données de test. Elle imprime également les scores de prédiction pour chaque classe. De plus, une matrice de confusion est générée pour évaluer les performances du modèle sur les données de test."
   ]
  },
  {
   "cell_type": "code",
   "execution_count": null,
   "id": "1bb3e5c1-8ef4-4bcb-851c-08556cff32c3",
   "metadata": {},
   "outputs": [],
   "source": [
    "predictions = model.predict(X_test)\n",
    "index = 0 # up to 9999\n",
    "print('Ground truth for test digit: ',y_test[index])\n",
    "print('\\n');\n",
    "print('Predictions for each class:\\n')\n",
    "for i in range(10):\n",
    "    print('digit:', i, ' probability: ', predictions[index][i])"
   ]
  },
  {
   "cell_type": "markdown",
   "id": "65cbc16e-98f3-46ef-8b18-f2fe73ac0ffa",
   "metadata": {},
   "source": [
    "### Matrice de confusion\n",
    "Une matrice de confusion est une métrique très courante utilisée pour résumer les résultats d'un problème de classification. Les informations sont présentées sous la forme d'un tableau ou d'une matrice où un axe représente les étiquettes de vérité pour chaque classe et l'autre axe représente les étiquettes prédites du réseau. Les entrées du tableau représentent le nombre d'instances d'une expérience. La génération d'une matrice de confusion dans TensorFlow s'effectue en appelant la fonction tf.math.confusion_matrix(), qui prend deux arguments requis qui sont la liste des étiquettes de vérité terrain et les étiquettes prédites associées."
   ]
  },
  {
   "cell_type": "code",
   "execution_count": null,
   "id": "5cd3a847-ce6e-44dd-a646-1f80c9db2c19",
   "metadata": {},
   "outputs": [],
   "source": [
    "# generation de la prediction pour les données test\n",
    "predictions = model.predict(X_test)\n",
    " \n",
    "# pour chaque image des données test on selectionne la classe avec la plus grande probabilité\n",
    "predicted_labels = [np.argmax(i) for i in predictions]"
   ]
  },
  {
   "cell_type": "code",
   "execution_count": null,
   "id": "2f531e0b-0a25-4a4f-99bc-4d1e9caca832",
   "metadata": {},
   "outputs": [],
   "source": [
    "# reconversion des etiquettes one hot en entier\n",
    "y_test_integer_labels = tf.argmax(y_test, axis=1)\n",
    " \n",
    "# generation de la matrice de confusion\n",
    "cm = tf.math.confusion_matrix(labels=y_test_integer_labels, predictions=predicted_labels)\n",
    " \n",
    "# affichage de la matrice de confusion\n",
    "plt.figure(figsize=[15, 8])\n",
    "import seaborn as sn\n",
    "sn.heatmap(cm, annot=True, fmt='d', annot_kws={\"size\": 14})\n",
    "plt.xlabel('Predicted')\n",
    "plt.ylabel('Truth')\n",
    "plt.show()"
   ]
  },
  {
   "cell_type": "code",
   "execution_count": null,
   "id": "032613b9-a879-4550-a471-241672c383f7",
   "metadata": {},
   "outputs": [],
   "source": []
  }
 ],
 "metadata": {
  "kernelspec": {
   "display_name": "Python 3 (ipykernel)",
   "language": "python",
   "name": "python3"
  },
  "language_info": {
   "codemirror_mode": {
    "name": "ipython",
    "version": 3
   },
   "file_extension": ".py",
   "mimetype": "text/x-python",
   "name": "python",
   "nbconvert_exporter": "python",
   "pygments_lexer": "ipython3",
   "version": "3.11.7"
  }
 },
 "nbformat": 4,
 "nbformat_minor": 5
}
