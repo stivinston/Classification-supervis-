{
 "cells": [
  {
   "cell_type": "markdown",
   "id": "300d59a5-d1cb-4249-9e45-a52c1826a493",
   "metadata": {},
   "source": [
    "## Exercice 3 : Modèle K-NN pour la classification des données de CIFAR-10 avec PyTorch"
   ]
  },
  {
   "cell_type": "markdown",
   "id": "ff063e82-94a4-4602-903e-4dbc8284264e",
   "metadata": {},
   "source": [
    "### 1- Chargement des données"
   ]
  },
  {
   "cell_type": "code",
   "execution_count": 1,
   "id": "c5e994af-fb5e-4549-a251-ce2df942369c",
   "metadata": {},
   "outputs": [],
   "source": [
    "import os\n",
    "import numpy as np\n",
    "import torch\n",
    "import torchvision\n",
    "from torchvision.datasets import CIFAR10\n",
    "import matplotlib.pyplot as plt"
   ]
  },
  {
   "cell_type": "markdown",
   "id": "46c9c7b7-ab2b-40d2-8012-b42e5e14d44f",
   "metadata": {},
   "source": [
    "### Fonction défini pour charger correctement les données\n",
    "La première fonction _extract_tensors prend un ensemble de données dset en entrée et optionnellement un nombre num d'échantillons à extraire. Elle convertit les données d'entrée en tenseurs PyTorch, normalise les valeurs de pixel entre 0 et 1 en divisant par 255, et réorganise les dimensions des tenseurs pour correspondre à l'ordre attendu par PyTorch. Si num est spécifié, elle extrait seulement les num premiers échantillons de l'ensemble de données. La fonction retourne ensuite les tenseurs d'entrée x et les étiquettes y.<br>\n",
    "\n",
    "La deuxième fonction cifar10 est une fonction de haut niveau qui utilise la fonction _extract_tensors pour charger les données CIFAR-10. Elle télécharge les données CIFAR-10 si elles ne sont pas déjà présentes sur le système, puis divise les données en ensembles d'entraînement et de test. Pour chaque ensemble, elle appelle _extract_tensors pour obtenir les tenseurs d'entrée et les étiquettes correspondantes. Elle retourne ensuite les ensembles d'entraînement et de test ainsi prétraités."
   ]
  },
  {
   "cell_type": "code",
   "execution_count": 2,
   "id": "8e96bed6-17a7-4009-8beb-579660713e5a",
   "metadata": {},
   "outputs": [],
   "source": [
    "def _extract_tensors(dset, num=None):\n",
    "  x = torch.tensor(dset.data, dtype=torch.float32).permute(0, 3, 1, 2).div_(255)\n",
    "  y = torch.tensor(dset.targets, dtype=torch.int64)\n",
    "  if num is not None:\n",
    "     if num <= 0 or num > x.shape[0]:\n",
    "        raise ValueError('Invalid value num=%d; must be in the range [0, %d]'\n",
    "                       % (num, x.shape[0]))\n",
    "     x = x[:num].clone()\n",
    "     y = y[:num].clone()\n",
    "  return x, y\n",
    "      \n",
    "def cifar10(num_train=None, num_test=None):\n",
    "  download = not os.path.isdir('cifar-10-batches-py')\n",
    "  dset_train = CIFAR10(root='.', download=download, train=True)\n",
    "  dset_test = CIFAR10(root='.', train=False)\n",
    "  x_train, y_train = _extract_tensors(dset_train, num_train)\n",
    "  x_test, y_test = _extract_tensors(dset_test, num_test)\n",
    "  \n",
    "  return x_train, y_train, x_test, y_test"
   ]
  },
  {
   "cell_type": "markdown",
   "id": "99495fa6-91d5-4211-846f-25d80f76f1df",
   "metadata": {},
   "source": [
    "### Taille des données\n",
    "L'ensemble de données CIFAR-10 contient 60 000 images couleur 32 x 32 réparties en 10 classes différentes. Les 10 classes différentes représentent les avions, les voitures, les oiseaux, les chats, les cerfs, les chiens, les grenouilles, les chevaux, les navires et les camions. Il y a 6 000 images de chaque classe. <br>\n",
    "Pour notre modèle, nous définissons 50 000 images pour l'entrainement et 10 000 images pour le test"
   ]
  },
  {
   "cell_type": "code",
   "execution_count": 3,
   "id": "8edf1635-415d-4f05-9a8a-b689ed553f8b",
   "metadata": {},
   "outputs": [
    {
     "name": "stdout",
     "output_type": "stream",
     "text": [
      "Taille des données d'entrainement: torch.Size([50000, 3, 32, 32])\n",
      "Taille des étiquettes d'entrainement: torch.Size([50000])\n",
      "Taille des données de test: torch.Size([10000, 3, 32, 32])\n",
      "Taille des étiquettes de test: torch.Size([10000])\n"
     ]
    }
   ],
   "source": [
    "x_train, y_train, x_test, y_test = cifar10()\n",
    "\n",
    "print(\"Taille des données d'entrainement:\", x_train.shape)\n",
    "print(\"Taille des étiquettes d'entrainement:\", y_train.shape)\n",
    "\n",
    "print(\"Taille des données de test:\", x_test.shape)\n",
    "print(\"Taille des étiquettes de test:\", y_test.shape)\n",
    "\n",
    "classes = ['plane', 'car', 'bird', 'cat', 'deer', 'dog', 'frog', 'horse', 'ship', 'truck']"
   ]
  },
  {
   "cell_type": "code",
   "execution_count": 4,
   "id": "41493975-ff3c-419b-a981-e630c0077347",
   "metadata": {},
   "outputs": [
    {
     "data": {
      "image/png": "[encoded data removed]",
      "text/plain": [
       "<Figure size 640x480 with 1 Axes>"
      ]
     },
     "metadata": {},
     "output_type": "display_data"
    }
   ],
   "source": [
    "#Affichage d'une image aléatoire \n",
    "def imshow(i):\n",
    "    a = x_train[i]\n",
    "    torchvision.utils.make_grid(a)\n",
    "    a = a / 2 + 0.5    \n",
    "    npimg = a.numpy()\n",
    "    plt.imshow(np.transpose(npimg, (1, 2, 0)))\n",
    "    plt.title(classes[y_train[i]])\n",
    "    plt.show()\n",
    "\n",
    "\n",
    "imshow(8)"
   ]
  },
  {
   "cell_type": "markdown",
   "id": "2e03a42c-bb20-45dd-b27f-c4b236d1cb8c",
   "metadata": {},
   "source": [
    "## 2- Construction de notre modèle K-NN"
   ]
  },
  {
   "attachments": {
    "93e1f7ef-ceb7-4e0d-9f40-d0d89d4e0049.png": {
     "image/png": "[encoded data removed]"
    }
   },
   "cell_type": "markdown",
   "id": "c5b95b59-e09e-4b1f-a1c9-2819f4ef24c8",
   "metadata": {},
   "source": [
    "### Calcul des distances euclidiennes\n",
    "La fonction <b> compute_distances_no_loops </b> calcule les distances euclidiennes entre chaque paire d'images entre l'ensemble d'entraînement (x_train) et l'ensemble de test (x_test). Au lieu d'utiliser des boucles explicites, Nous exploitons les opérations vectorielles de PyTorch pour effectuer les calculs de manière efficace.<br>\n",
    "Notre approche se définit comme suit : <br>\n",
    "\n",
    "- Obtention du nombre d'images dans les ensembles d'entraînement et de test <br>\n",
    "- Création d'un tenseur dists de dimensions (num_train, num_test) rempli de zéros, où num_train est le nombre d'images dans l'ensemble d'entraînement et num_test est le nombre d'images dans l'ensemble de test. <br>\n",
    "- Redisposer les tenseurs x_train et x_test pour qu'ils aient la forme (nombre_d'images, nombre_de_caractéristiques_par_image) en utilisant la méthode flatten. <br>\n",
    "- Calcul des carrés des éléments des tenseurs train et test. <br>\n",
    "- Sommation des éléments de chaque ligne des tenseurs train_sq et test_sq pour obtenir les sommes des carrés pour chaque image, respectivement. <br>\n",
    "- Multiplication matricielle entre le tenseur train et la transposée du tenseur test pour obtenir les produits scalaires entre chaque paire d'images.<br>\n",
    "- Calcul de la distance euclidienne entre chaque paire d'images à l'aide de la formule de distance euclidienne : <br> ![distance euclidienne.png](attachment:93e1f7ef-ceb7-4e0d-9f40-d0d89d4e0049.png)\n"
   ]
  },
  {
   "cell_type": "code",
   "execution_count": 5,
   "id": "3ccbd453-2711-4793-833d-500efe575f25",
   "metadata": {},
   "outputs": [],
   "source": [
    "def compute_distances_no_loops(x_train, x_test):\n",
    "  # Obtention du nombre d'images dans les ensembles d'entraînement et de test\n",
    "  num_train = x_train.shape[0]\n",
    "  num_test = x_test.shape[0]\n",
    "\n",
    "  # Création d'un tenseur dists de dimensions (num_train, num_test) rempli de zéros\n",
    "  dists = x_train.new_zeros(num_train, num_test) # (50000, 10000)\n",
    "\n",
    "  train = x_train.flatten(1) # (50000, 3072)\n",
    "  test = x_test.flatten(1) # (10000, 3072)\n",
    "\n",
    "  # Calcul des carrés des éléments des tenseurs train et test\n",
    "  train_sq = torch.square(train)\n",
    "  test_sq = torch.square(test)\n",
    "\n",
    "  # Sommation des éléments de chaque ligne des tenseurs\n",
    "  train_sum_sq = torch.sum(train_sq, 1) # (50000)\n",
    "  test_sum_sq = torch.sum(test_sq, 1) # (10000)\n",
    "\n",
    "  # Multiplication matricielle entre le tenseur train et la transposée du tenseur test\n",
    "  mul = torch.matmul(train, test.transpose(0, 1)) # (50000, 10000)\n",
    "\n",
    "\n",
    "  # Calcul de la distance euclidienne entre chaque paire d'images\n",
    "  dists = torch.sqrt(train_sum_sq.reshape(-1, 1) + test_sum_sq.reshape(1, -1) - 2*mul)\n",
    "  print (\"Calcul de la distance terminé !\")\n",
    "    \n",
    "  return dists"
   ]
  },
  {
   "cell_type": "code",
   "execution_count": 6,
   "id": "d81f9e72-3dfd-4711-96c4-718acb92da26",
   "metadata": {},
   "outputs": [
    {
     "name": "stdout",
     "output_type": "stream",
     "text": [
      "Calcul de la distance terminé !\n"
     ]
    }
   ],
   "source": [
    "# Stockage de la distance euclidienne\n",
    "dists = compute_distances_no_loops(x_train, x_test)"
   ]
  },
  {
   "cell_type": "markdown",
   "id": "0b2b8d71-2dc3-455f-a134-c97fc6139f16",
   "metadata": {},
   "source": [
    "## 3- Prediction et evaluation des performances de notre modèle\n",
    "Dans cette partie, nous implémentons un algorithme k-NN pour la classification des images dans l'ensemble de test en utilisant différentes valeurs de k et affichons la précision pour chaque valeur de k afin de trouver le nombre de voisins neccessaire qu'il faut utiliser pour que notre classification soit optimale"
   ]
  },
  {
   "cell_type": "code",
   "execution_count": 7,
   "id": "dbe8387e-84c8-4727-9768-311ff58e2de1",
   "metadata": {},
   "outputs": [
    {
     "name": "stdout",
     "output_type": "stream",
     "text": [
      "Avec K = 1, On obtient 3539 / 10000 images correcte. Precision: 35.39%\n",
      "Avec K = 2, On obtient 3115 / 10000 images correcte. Precision: 31.15%\n",
      "Avec K = 3, On obtient 3303 / 10000 images correcte. Precision: 33.03%\n",
      "Avec K = 4, On obtient 3399 / 10000 images correcte. Precision: 33.99%\n",
      "Avec K = 5, On obtient 3398 / 10000 images correcte. Precision: 33.98%\n"
     ]
    }
   ],
   "source": [
    "for k in range (1,6):\n",
    "    k = k\n",
    "    y_test_pred = torch.zeros(x_test.shape[0], dtype=torch.int64)\n",
    "    \n",
    "    for i in range(dists.shape[1]):\n",
    "        # Trouver l'indice des k valeurs les plus basses\n",
    "        x = torch.topk(dists[:,i], k, largest=False).indices\n",
    "        \n",
    "        # Valeur de l'index suivant x\n",
    "        k_lowest_labels = y_train[x]\n",
    "        \n",
    "        # y_test_pred[i] = l'indice le plus fréquent\n",
    "        y_test_pred[i] = torch.argmax(torch.bincount(k_lowest_labels))\n",
    "    num_samples = x_test.shape[0]\n",
    "    num_correct = (y_test == y_test_pred).sum().item()\n",
    "    accuracy = 100.0 * num_correct / num_samples\n",
    "    print(f'Avec K = {k}, On obtient {num_correct} / {num_samples} images correcte. Precision: {accuracy:.2f}%')"
   ]
  },
  {
   "cell_type": "markdown",
   "id": "b6e18e60-d053-4c63-9afc-7abb0e1faa15",
   "metadata": {},
   "source": [
    "## Conclusion\n",
    "Nous avons implementer un algorithme de classification k-plus proches voisins (k-NN) pour prédire les étiquettes des images dans l'ensemble de test des données de CIFAR-10. <br>\n",
    "En utilisant cet algorithme avec des valeurs de k allant de 1 à 5, nous avons obtenu une meilleure précision de classification à k = 1 de 35.39%. Cette précision représente le pourcentage d'images correctement classées par rapport au nombre total d'images dans l'ensemble de test.<br>\n",
    "\n",
    "Cette précision fournit une indication de la performance optimale de cette implémentation de l'algorithme k-NN sur ce jeu de données spécifique."
   ]
  },
  {
   "cell_type": "code",
   "execution_count": null,
   "id": "20dbae59-0b70-4ec2-a5d6-0b12abe80511",
   "metadata": {},
   "outputs": [],
   "source": []
  }
 ],
 "metadata": {
  "kernelspec": {
   "display_name": "Python 3 (ipykernel)",
   "language": "python",
   "name": "python3"
  },
  "language_info": {
   "codemirror_mode": {
    "name": "ipython",
    "version": 3
   },
   "file_extension": ".py",
   "mimetype": "text/x-python",
   "name": "python",
   "nbconvert_exporter": "python",
   "pygments_lexer": "ipython3",
   "version": "3.11.7"
  }
 },
 "nbformat": 4,
 "nbformat_minor": 5
}
